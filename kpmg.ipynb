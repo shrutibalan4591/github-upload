{
  "nbformat": 4,
  "nbformat_minor": 0,
  "metadata": {
    "colab": {
      "name": "kpmg.ipynb",
      "provenance": [],
      "collapsed_sections": [
        "_PdRT20zE9Kh",
        "hY3Nj32SIJwS",
        "WBoivbiDYQBl",
        "ZVyT4BTRTdRG"
      ],
      "toc_visible": true
    },
    "kernelspec": {
      "name": "python3",
      "display_name": "Python 3"
    }
  },
  "cells": [
    {
      "cell_type": "markdown",
      "metadata": {
        "id": "Xf13V-AREyvk"
      },
      "source": [
        "# CustomerDemographic"
      ]
    },
    {
      "cell_type": "code",
      "metadata": {
        "id": "euPo7848_RZR"
      },
      "source": [
        "#import libraries\n",
        "import numpy as np\n",
        "import pandas as pd\n",
        "import matplotlib.pyplot as plt\n",
        "%matplotlib inline\n",
        "import datetime"
      ],
      "execution_count": null,
      "outputs": []
    },
    {
      "cell_type": "code",
      "metadata": {
        "id": "RNYlNiT4_iHh",
        "colab": {
          "base_uri": "https://localhost:8080/"
        },
        "outputId": "ca65ac23-8e30-4788-8fa7-51cd3f96e42c"
      },
      "source": [
        "# Read data file\n",
        "xls = '/content/KPMG_VI_New_raw_data_update_final.xlsx'\n",
        "data_cd = pd.read_excel(xls, 'CustomerDemographic')\n",
        "data_cd.head()"
      ],
      "execution_count": null,
      "outputs": [
        {
          "output_type": "execute_result",
          "data": {
            "text/html": [
              "<div>\n",
              "<style scoped>\n",
              "    .dataframe tbody tr th:only-of-type {\n",
              "        vertical-align: middle;\n",
              "    }\n",
              "\n",
              "    .dataframe tbody tr th {\n",
              "        vertical-align: top;\n",
              "    }\n",
              "\n",
              "    .dataframe thead th {\n",
              "        text-align: right;\n",
              "    }\n",
              "</style>\n",
              "<table border=\"1\" class=\"dataframe\">\n",
              "  <thead>\n",
              "    <tr style=\"text-align: right;\">\n",
              "      <th></th>\n",
              "      <th>customer_id</th>\n",
              "      <th>first_name</th>\n",
              "      <th>last_name</th>\n",
              "      <th>gender</th>\n",
              "      <th>past_3_years_bike_related_purchases</th>\n",
              "      <th>DOB</th>\n",
              "      <th>job_title</th>\n",
              "      <th>job_industry_category</th>\n",
              "      <th>wealth_segment</th>\n",
              "      <th>deceased_indicator</th>\n",
              "      <th>default</th>\n",
              "      <th>owns_car</th>\n",
              "      <th>tenure</th>\n",
              "    </tr>\n",
              "  </thead>\n",
              "  <tbody>\n",
              "    <tr>\n",
              "      <th>0</th>\n",
              "      <td>1</td>\n",
              "      <td>Laraine</td>\n",
              "      <td>Medendorp</td>\n",
              "      <td>F</td>\n",
              "      <td>93</td>\n",
              "      <td>1953-10-12</td>\n",
              "      <td>Executive Secretary</td>\n",
              "      <td>Health</td>\n",
              "      <td>Mass Customer</td>\n",
              "      <td>N</td>\n",
              "      <td>\"'</td>\n",
              "      <td>Yes</td>\n",
              "      <td>11.0</td>\n",
              "    </tr>\n",
              "    <tr>\n",
              "      <th>1</th>\n",
              "      <td>2</td>\n",
              "      <td>Eli</td>\n",
              "      <td>Bockman</td>\n",
              "      <td>Male</td>\n",
              "      <td>81</td>\n",
              "      <td>1980-12-16</td>\n",
              "      <td>Administrative Officer</td>\n",
              "      <td>Financial Services</td>\n",
              "      <td>Mass Customer</td>\n",
              "      <td>N</td>\n",
              "      <td>&lt;script&gt;alert('hi')&lt;/script&gt;</td>\n",
              "      <td>Yes</td>\n",
              "      <td>16.0</td>\n",
              "    </tr>\n",
              "    <tr>\n",
              "      <th>2</th>\n",
              "      <td>3</td>\n",
              "      <td>Arlin</td>\n",
              "      <td>Dearle</td>\n",
              "      <td>Male</td>\n",
              "      <td>61</td>\n",
              "      <td>1954-01-20</td>\n",
              "      <td>Recruiting Manager</td>\n",
              "      <td>Property</td>\n",
              "      <td>Mass Customer</td>\n",
              "      <td>N</td>\n",
              "      <td>2018-02-01 00:00:00</td>\n",
              "      <td>Yes</td>\n",
              "      <td>15.0</td>\n",
              "    </tr>\n",
              "    <tr>\n",
              "      <th>3</th>\n",
              "      <td>4</td>\n",
              "      <td>Talbot</td>\n",
              "      <td>NaN</td>\n",
              "      <td>Male</td>\n",
              "      <td>33</td>\n",
              "      <td>1961-10-03</td>\n",
              "      <td>NaN</td>\n",
              "      <td>IT</td>\n",
              "      <td>Mass Customer</td>\n",
              "      <td>N</td>\n",
              "      <td>() { _; } &gt;_[$($())] { touch /tmp/blns.shellsh...</td>\n",
              "      <td>No</td>\n",
              "      <td>7.0</td>\n",
              "    </tr>\n",
              "    <tr>\n",
              "      <th>4</th>\n",
              "      <td>5</td>\n",
              "      <td>Sheila-kathryn</td>\n",
              "      <td>Calton</td>\n",
              "      <td>Female</td>\n",
              "      <td>56</td>\n",
              "      <td>1977-05-13</td>\n",
              "      <td>Senior Editor</td>\n",
              "      <td>NaN</td>\n",
              "      <td>Affluent Customer</td>\n",
              "      <td>N</td>\n",
              "      <td>NIL</td>\n",
              "      <td>Yes</td>\n",
              "      <td>8.0</td>\n",
              "    </tr>\n",
              "  </tbody>\n",
              "</table>\n",
              "</div>"
            ],
            "text/plain": [
              "   customer_id      first_name  ... owns_car tenure\n",
              "0            1         Laraine  ...      Yes   11.0\n",
              "1            2             Eli  ...      Yes   16.0\n",
              "2            3           Arlin  ...      Yes   15.0\n",
              "3            4          Talbot  ...       No    7.0\n",
              "4            5  Sheila-kathryn  ...      Yes    8.0\n",
              "\n",
              "[5 rows x 13 columns]"
            ]
          },
          "metadata": {
            "tags": []
          },
          "execution_count": 10
        }
      ]
    },
    {
      "cell_type": "code",
      "metadata": {
        "id": "1PUVokdyB-jw",
        "colab": {
          "base_uri": "https://localhost:8080/"
        },
        "outputId": "1f18431b-2b6a-4f54-fa29-dbbb511feda0"
      },
      "source": [
        "data_cd.columns"
      ],
      "execution_count": null,
      "outputs": [
        {
          "output_type": "execute_result",
          "data": {
            "text/plain": [
              "Index(['customer_id', 'first_name', 'last_name', 'gender',\n",
              "       'past_3_years_bike_related_purchases', 'DOB', 'job_title',\n",
              "       'job_industry_category', 'wealth_segment', 'deceased_indicator',\n",
              "       'default', 'owns_car', 'tenure'],\n",
              "      dtype='object')"
            ]
          },
          "metadata": {
            "tags": []
          },
          "execution_count": 11
        }
      ]
    },
    {
      "cell_type": "code",
      "metadata": {
        "id": "UkhKVZsQCaOO",
        "colab": {
          "base_uri": "https://localhost:8080/"
        },
        "outputId": "8a24dcad-7a07-497b-cffd-67e4474706ae"
      },
      "source": [
        "# Drop first_name, last_name and default\n",
        "data_cd.drop(['first_name', 'last_name', 'default'], axis=1, inplace=True)\n",
        "data_cd.columns"
      ],
      "execution_count": null,
      "outputs": [
        {
          "output_type": "execute_result",
          "data": {
            "text/plain": [
              "Index(['customer_id', 'gender', 'past_3_years_bike_related_purchases', 'DOB',\n",
              "       'job_title', 'job_industry_category', 'wealth_segment',\n",
              "       'deceased_indicator', 'owns_car', 'tenure'],\n",
              "      dtype='object')"
            ]
          },
          "metadata": {
            "tags": []
          },
          "execution_count": 12
        }
      ]
    },
    {
      "cell_type": "code",
      "metadata": {
        "id": "gAbikOH2D0jG",
        "colab": {
          "base_uri": "https://localhost:8080/"
        },
        "outputId": "47329225-1d8e-412a-ccbf-ae4958e6eb36"
      },
      "source": [
        "# check datatypes of columns\n",
        "data_cd.dtypes"
      ],
      "execution_count": null,
      "outputs": [
        {
          "output_type": "execute_result",
          "data": {
            "text/plain": [
              "customer_id                                     int64\n",
              "gender                                         object\n",
              "past_3_years_bike_related_purchases             int64\n",
              "DOB                                    datetime64[ns]\n",
              "job_title                                      object\n",
              "job_industry_category                          object\n",
              "wealth_segment                                 object\n",
              "deceased_indicator                             object\n",
              "owns_car                                       object\n",
              "tenure                                        float64\n",
              "dtype: object"
            ]
          },
          "metadata": {
            "tags": []
          },
          "execution_count": 13
        }
      ]
    },
    {
      "cell_type": "code",
      "metadata": {
        "id": "uHRTvRXyD_pY",
        "colab": {
          "base_uri": "https://localhost:8080/"
        },
        "outputId": "38ef4144-982f-4ed6-de71-f19d17173ba4"
      },
      "source": [
        "# Derive a new column 'Age' from DOB and drop 'DOB'\n",
        "def from_dob_to_age(born):\n",
        "    today = datetime.date.today()\n",
        "    return today.year - born.year - ((today.month, today.day) < (born.month, born.day))\n",
        "\n",
        "data_cd['Age'] = data_cd['DOB'].apply(lambda x: from_dob_to_age(x))\n",
        "data_cd.drop('DOB', axis=1, inplace=True)\n",
        "data_cd.head(4)\n"
      ],
      "execution_count": null,
      "outputs": [
        {
          "output_type": "execute_result",
          "data": {
            "text/html": [
              "<div>\n",
              "<style scoped>\n",
              "    .dataframe tbody tr th:only-of-type {\n",
              "        vertical-align: middle;\n",
              "    }\n",
              "\n",
              "    .dataframe tbody tr th {\n",
              "        vertical-align: top;\n",
              "    }\n",
              "\n",
              "    .dataframe thead th {\n",
              "        text-align: right;\n",
              "    }\n",
              "</style>\n",
              "<table border=\"1\" class=\"dataframe\">\n",
              "  <thead>\n",
              "    <tr style=\"text-align: right;\">\n",
              "      <th></th>\n",
              "      <th>customer_id</th>\n",
              "      <th>gender</th>\n",
              "      <th>past_3_years_bike_related_purchases</th>\n",
              "      <th>job_title</th>\n",
              "      <th>job_industry_category</th>\n",
              "      <th>wealth_segment</th>\n",
              "      <th>deceased_indicator</th>\n",
              "      <th>owns_car</th>\n",
              "      <th>tenure</th>\n",
              "      <th>Age</th>\n",
              "    </tr>\n",
              "  </thead>\n",
              "  <tbody>\n",
              "    <tr>\n",
              "      <th>0</th>\n",
              "      <td>1</td>\n",
              "      <td>F</td>\n",
              "      <td>93</td>\n",
              "      <td>Executive Secretary</td>\n",
              "      <td>Health</td>\n",
              "      <td>Mass Customer</td>\n",
              "      <td>N</td>\n",
              "      <td>Yes</td>\n",
              "      <td>11.0</td>\n",
              "      <td>67.0</td>\n",
              "    </tr>\n",
              "    <tr>\n",
              "      <th>1</th>\n",
              "      <td>2</td>\n",
              "      <td>Male</td>\n",
              "      <td>81</td>\n",
              "      <td>Administrative Officer</td>\n",
              "      <td>Financial Services</td>\n",
              "      <td>Mass Customer</td>\n",
              "      <td>N</td>\n",
              "      <td>Yes</td>\n",
              "      <td>16.0</td>\n",
              "      <td>39.0</td>\n",
              "    </tr>\n",
              "    <tr>\n",
              "      <th>2</th>\n",
              "      <td>3</td>\n",
              "      <td>Male</td>\n",
              "      <td>61</td>\n",
              "      <td>Recruiting Manager</td>\n",
              "      <td>Property</td>\n",
              "      <td>Mass Customer</td>\n",
              "      <td>N</td>\n",
              "      <td>Yes</td>\n",
              "      <td>15.0</td>\n",
              "      <td>66.0</td>\n",
              "    </tr>\n",
              "    <tr>\n",
              "      <th>3</th>\n",
              "      <td>4</td>\n",
              "      <td>Male</td>\n",
              "      <td>33</td>\n",
              "      <td>NaN</td>\n",
              "      <td>IT</td>\n",
              "      <td>Mass Customer</td>\n",
              "      <td>N</td>\n",
              "      <td>No</td>\n",
              "      <td>7.0</td>\n",
              "      <td>59.0</td>\n",
              "    </tr>\n",
              "  </tbody>\n",
              "</table>\n",
              "</div>"
            ],
            "text/plain": [
              "   customer_id gender  ...  tenure   Age\n",
              "0            1      F  ...    11.0  67.0\n",
              "1            2   Male  ...    16.0  39.0\n",
              "2            3   Male  ...    15.0  66.0\n",
              "3            4   Male  ...     7.0  59.0\n",
              "\n",
              "[4 rows x 10 columns]"
            ]
          },
          "metadata": {
            "tags": []
          },
          "execution_count": 14
        }
      ]
    },
    {
      "cell_type": "code",
      "metadata": {
        "id": "Z7NC8EL1Fw0Y",
        "colab": {
          "base_uri": "https://localhost:8080/"
        },
        "outputId": "20b17c63-fcbc-462b-e723-043eb263a16f"
      },
      "source": [
        "# Total rows and columns in dataset\n",
        "data_cd.shape"
      ],
      "execution_count": null,
      "outputs": [
        {
          "output_type": "execute_result",
          "data": {
            "text/plain": [
              "(4000, 10)"
            ]
          },
          "metadata": {
            "tags": []
          },
          "execution_count": 15
        }
      ]
    },
    {
      "cell_type": "code",
      "metadata": {
        "id": "acscx_ROIOqQ",
        "colab": {
          "base_uri": "https://localhost:8080/"
        },
        "outputId": "e7f03956-e30f-4e31-aed0-fcabdf1da8d1"
      },
      "source": [
        "# Total null values\n",
        "data_cd.isnull().sum()"
      ],
      "execution_count": null,
      "outputs": [
        {
          "output_type": "execute_result",
          "data": {
            "text/plain": [
              "customer_id                              0\n",
              "gender                                   0\n",
              "past_3_years_bike_related_purchases      0\n",
              "job_title                              506\n",
              "job_industry_category                  656\n",
              "wealth_segment                           0\n",
              "deceased_indicator                       0\n",
              "owns_car                                 0\n",
              "tenure                                  87\n",
              "Age                                     87\n",
              "dtype: int64"
            ]
          },
          "metadata": {
            "tags": []
          },
          "execution_count": 16
        }
      ]
    },
    {
      "cell_type": "code",
      "metadata": {
        "id": "nIETe9QvI6HU",
        "colab": {
          "base_uri": "https://localhost:8080/"
        },
        "outputId": "cedcdb29-19d3-4ef3-ef95-05b2a37de4fb"
      },
      "source": [
        "# Since replacing mean or mode of age makes no sense, we delete rows containing missing age\n",
        "data_cd.dropna(subset=['Age'], inplace=True)\n",
        "data_cd.isnull().sum()"
      ],
      "execution_count": null,
      "outputs": [
        {
          "output_type": "execute_result",
          "data": {
            "text/plain": [
              "customer_id                              0\n",
              "gender                                   0\n",
              "past_3_years_bike_related_purchases      0\n",
              "job_title                              497\n",
              "job_industry_category                  656\n",
              "wealth_segment                           0\n",
              "deceased_indicator                       0\n",
              "owns_car                                 0\n",
              "tenure                                   0\n",
              "Age                                      0\n",
              "dtype: int64"
            ]
          },
          "metadata": {
            "tags": []
          },
          "execution_count": 17
        }
      ]
    },
    {
      "cell_type": "code",
      "metadata": {
        "id": "_sgxUdYjOMSP",
        "colab": {
          "base_uri": "https://localhost:8080/"
        },
        "outputId": "dabc259b-e24c-40e7-c0d4-1596fd0eb890"
      },
      "source": [
        "# Drop rows with atleast 2 missing values\n",
        "d = np.where(data_cd.isnull().sum(axis=1)>1)\n",
        "data_cd= data_cd.drop(data_cd.index[d])\n",
        "data_cd.isnull().sum(), data_cd.shape"
      ],
      "execution_count": null,
      "outputs": [
        {
          "output_type": "execute_result",
          "data": {
            "text/plain": [
              "(customer_id                              0\n",
              " gender                                   0\n",
              " past_3_years_bike_related_purchases      0\n",
              " job_title                              392\n",
              " job_industry_category                  551\n",
              " wealth_segment                           0\n",
              " deceased_indicator                       0\n",
              " owns_car                                 0\n",
              " tenure                                   0\n",
              " Age                                      0\n",
              " dtype: int64, (3808, 10))"
            ]
          },
          "metadata": {
            "tags": []
          },
          "execution_count": 18
        }
      ]
    },
    {
      "cell_type": "code",
      "metadata": {
        "id": "8fjlr-HlQba0",
        "colab": {
          "base_uri": "https://localhost:8080/"
        },
        "outputId": "c7ffb057-2d57-48ab-f39b-e7481efb5e55"
      },
      "source": [
        "data_cd.dropna(subset=['job_industry_category'], inplace=True)\n",
        "data_cd.isnull().sum(), data_cd.shape"
      ],
      "execution_count": null,
      "outputs": [
        {
          "output_type": "execute_result",
          "data": {
            "text/plain": [
              "(customer_id                              0\n",
              " gender                                   0\n",
              " past_3_years_bike_related_purchases      0\n",
              " job_title                              392\n",
              " job_industry_category                    0\n",
              " wealth_segment                           0\n",
              " deceased_indicator                       0\n",
              " owns_car                                 0\n",
              " tenure                                   0\n",
              " Age                                      0\n",
              " dtype: int64, (3257, 10))"
            ]
          },
          "metadata": {
            "tags": []
          },
          "execution_count": 19
        }
      ]
    },
    {
      "cell_type": "code",
      "metadata": {
        "id": "3Da25pvdY_hF",
        "colab": {
          "base_uri": "https://localhost:8080/"
        },
        "outputId": "f95f1c1f-6443-4336-9705-69ec405deb96"
      },
      "source": [
        "data_cd.job_industry_category.unique()"
      ],
      "execution_count": null,
      "outputs": [
        {
          "output_type": "execute_result",
          "data": {
            "text/plain": [
              "array(['Health', 'Financial Services', 'Property', 'IT', 'Retail',\n",
              "       'Argiculture', 'Manufacturing', 'Telecommunications',\n",
              "       'Entertainment'], dtype=object)"
            ]
          },
          "metadata": {
            "tags": []
          },
          "execution_count": 20
        }
      ]
    },
    {
      "cell_type": "code",
      "metadata": {
        "id": "KuFmGqu5Tq3X",
        "colab": {
          "base_uri": "https://localhost:8080/"
        },
        "outputId": "3ad4e759-44be-4569-d384-3197201f6304"
      },
      "source": [
        "# Make a list containing the mode of job_title for each type of job_industry_category\n",
        "cat_list = data_cd.groupby('job_industry_category').apply(lambda x: x['job_title'].value_counts().idxmax())\n",
        "cat_list\n"
      ],
      "execution_count": null,
      "outputs": [
        {
          "output_type": "execute_result",
          "data": {
            "text/plain": [
              "job_industry_category\n",
              "Argiculture                            Executive Secretary\n",
              "Entertainment                      Assistant Media Planner\n",
              "Financial Services                         Cost Accountant\n",
              "Health                                       Social Worker\n",
              "IT                    Business Systems Development Analyst\n",
              "Manufacturing                            Chemical Engineer\n",
              "Property                               Account Coordinator\n",
              "Retail                                Sales Representative\n",
              "Telecommunications                               Recruiter\n",
              "dtype: object"
            ]
          },
          "metadata": {
            "tags": []
          },
          "execution_count": 21
        }
      ]
    },
    {
      "cell_type": "code",
      "metadata": {
        "id": "lvftR0Wr-H1F",
        "colab": {
          "base_uri": "https://localhost:8080/"
        },
        "outputId": "96f9d4cb-6df2-4f19-eb40-a956e6112999"
      },
      "source": [
        "# Iterate through each row of dataframe and replace null job_title with values from cat_list\n",
        "for ind, row in data_cd.iterrows():\n",
        "  if pd.isnull(data_cd.at[ind, 'job_title']):\n",
        "    cat =data_cd.at[ind , 'job_industry_category']\n",
        "    data_cd.at[ind, 'job_title'] = cat_list[cat]\n",
        "\n",
        "#for ind in data_cd[:10].index:\n",
        "#  print(data_cd['job_title'][ind], data_cd['job_industry_category'][ind])\n",
        "data_cd.isnull().sum()  "
      ],
      "execution_count": null,
      "outputs": [
        {
          "output_type": "execute_result",
          "data": {
            "text/plain": [
              "customer_id                            0\n",
              "gender                                 0\n",
              "past_3_years_bike_related_purchases    0\n",
              "job_title                              0\n",
              "job_industry_category                  0\n",
              "wealth_segment                         0\n",
              "deceased_indicator                     0\n",
              "owns_car                               0\n",
              "tenure                                 0\n",
              "Age                                    0\n",
              "dtype: int64"
            ]
          },
          "metadata": {
            "tags": []
          },
          "execution_count": 22
        }
      ]
    },
    {
      "cell_type": "code",
      "metadata": {
        "id": "Oc4blXyW5YBb",
        "colab": {
          "base_uri": "https://localhost:8080/"
        },
        "outputId": "4826a4c2-9656-4c4c-e4fc-da26a981ddf9"
      },
      "source": [
        "data_cd.shape"
      ],
      "execution_count": null,
      "outputs": [
        {
          "output_type": "execute_result",
          "data": {
            "text/plain": [
              "(3257, 10)"
            ]
          },
          "metadata": {
            "tags": []
          },
          "execution_count": 23
        }
      ]
    },
    {
      "cell_type": "code",
      "metadata": {
        "id": "FPVvT05UAn1n",
        "colab": {
          "base_uri": "https://localhost:8080/"
        },
        "outputId": "6f6dbe0e-5f46-4d09-b839-94f85a890666"
      },
      "source": [
        "# find unique values for each column and check for inconsistancies\n",
        "for col in data_cd:\n",
        "  print(data_cd[col].unique())"
      ],
      "execution_count": null,
      "outputs": [
        {
          "output_type": "stream",
          "text": [
            "[   1    2    3 ... 3996 3997 3999]\n",
            "['F' 'Male' 'Female' 'U' 'Femal']\n",
            "[93 81 61 33 35  6 97 49 99 58 38 85 91 76 72 74 79 55 12 37  5 62 18  3\n",
            " 17 59 40 46 64 24 63 51 68 57 22  2 48 44 26 47 73 21 67 78 30 28 20 11\n",
            " 75 41 69 98 16 19 80 83 25 54 23 88 10 77 82 87 27 94 53 32 34  1  9 36\n",
            "  4 90 95 39  7 42 13 45 71 56 50 14 89 84 96 65 70 31 60 66  0 43 86 92\n",
            "  8 29 15 52]\n",
            "['Executive Secretary' 'Administrative Officer' 'Recruiting Manager'\n",
            " 'Business Systems Development Analyst' 'Sales Representative'\n",
            " 'Cost Accountant' 'Senior Quality Engineer' 'Account Coordinator'\n",
            " 'Nuclear Power Engineer' 'Developer I' 'Account Executive'\n",
            " 'Junior Executive' 'Geological Engineer' 'Project Manager'\n",
            " 'Safety Technician I' 'Research Assistant I' 'Accounting Assistant III'\n",
            " 'Editor' 'Research Nurse' 'Safety Technician III' 'Staff Accountant III'\n",
            " 'Legal Assistant' 'Information Systems Manager' 'Social Worker'\n",
            " 'Senior Cost Accountant' 'Assistant Media Planner'\n",
            " 'Payment Adjustment Coordinator' 'Food Chemist' 'Accountant III'\n",
            " 'Director of Sales' 'Senior Financial Analyst' 'Registered Nurse'\n",
            " 'Computer Systems Analyst II' 'Software Test Engineer II'\n",
            " 'Sales Associate' 'Paralegal' 'VP Sales' 'Office Assistant III'\n",
            " 'Chemical Engineer' 'Help Desk Operator' 'Web Developer II'\n",
            " 'Research Associate' 'VP Product Management' 'Statistician II'\n",
            " 'Automation Specialist IV' 'Data Coordiator' 'Software Test Engineer III'\n",
            " 'Internal Auditor' 'Occupational Therapist' 'Speech Pathologist'\n",
            " 'Quality Control Specialist' 'Civil Engineer' 'Software Engineer III'\n",
            " 'Community Outreach Specialist' 'Safety Technician IV' 'VP Accounting'\n",
            " 'General Manager' 'Nurse Practicioner' 'Product Engineer'\n",
            " 'Automation Specialist II' 'Marketing Manager' 'Teacher'\n",
            " 'Assistant Professor' 'Graphic Designer' 'Analyst Programmer'\n",
            " 'Administrative Assistant II' 'Compensation Analyst'\n",
            " 'Systems Administrator III' 'Financial Advisor' 'Web Designer I'\n",
            " 'Senior Developer' 'Office Assistant II' 'Recruiter' 'Operator'\n",
            " 'Programmer Analyst III' 'Quality Engineer'\n",
            " 'Analog Circuit Design manager' 'Librarian' 'Senior Editor'\n",
            " 'Structural Analysis Engineer' 'Pharmacist' 'Assistant Manager'\n",
            " 'Accountant I' 'Professor' 'Environmental Tech' 'Web Designer III'\n",
            " 'Geologist III' 'Software Test Engineer I' 'Safety Technician II'\n",
            " 'Web Developer III' 'Programmer Analyst II' 'Physical Therapy Assistant'\n",
            " 'Design Engineer' 'VP Marketing' 'Desktop Support Technician' 'Actuary'\n",
            " 'Database Administrator III' 'Electrical Engineer' 'Tax Accountant'\n",
            " 'Clinical Specialist' 'Database Administrator IV'\n",
            " 'Systems Administrator II' 'Chief Design Engineer'\n",
            " 'Administrative Assistant III' 'Nurse' 'Associate Professor'\n",
            " 'Technical Writer' 'Staff Accountant II' 'Dental Hygienist'\n",
            " 'VP Quality Control' 'Financial Analyst' 'Accounting Assistant II'\n",
            " 'Engineer I' 'Budget/Accounting Analyst I' 'Developer IV'\n",
            " 'Database Administrator I' 'Marketing Assistant'\n",
            " 'Environmental Specialist' 'Programmer III' 'Computer Systems Analyst I'\n",
            " 'Account Representative IV' 'Statistician IV' 'Human Resources Manager'\n",
            " 'GIS Technical Architect' 'Programmer IV' 'Senior Sales Associate'\n",
            " 'Computer Systems Analyst IV' 'Database Administrator II'\n",
            " 'Staff Scientist' 'Software Engineer IV' 'Programmer II'\n",
            " 'Structural Engineer' 'Engineer III' 'Geologist I' 'Biostatistician IV'\n",
            " 'Help Desk Technician' 'Automation Specialist I' 'Developer III'\n",
            " 'Human Resources Assistant I' 'Geologist IV' 'Media Manager II'\n",
            " 'Statistician III' 'Engineer II' 'Budget/Accounting Analyst III'\n",
            " 'Health Coach II' 'Developer II' 'Systems Administrator I'\n",
            " 'Software Engineer II' 'Accounting Assistant I' 'Research Assistant II'\n",
            " 'Health Coach I' 'Accountant II' 'Automation Specialist III'\n",
            " 'Administrative Assistant I' 'Health Coach IV' 'Media Manager III'\n",
            " 'Media Manager IV' 'Budget/Accounting Analyst II' 'Web Developer IV'\n",
            " 'Software Consultant' 'Accounting Assistant IV' 'Biostatistician III'\n",
            " 'Software Test Engineer IV' 'Account Representative III'\n",
            " 'Research Assistant IV' 'Media Manager I' 'Account Representative I'\n",
            " 'Web Designer IV' 'Accountant IV' 'Biostatistician I'\n",
            " 'Budget/Accounting Analyst IV' 'Human Resources Assistant IV'\n",
            " 'Programmer I' 'Office Assistant I' 'Web Developer I'\n",
            " 'Human Resources Assistant II' 'Mechanical Systems Engineer'\n",
            " 'Statistician I' 'Engineer IV' 'Administrative Assistant IV'\n",
            " 'Health Coach III' 'Office Assistant IV' 'Software Engineer I'\n",
            " 'Human Resources Assistant III' 'Staff Accountant I'\n",
            " 'Computer Systems Analyst III' 'Geologist II' 'Web Designer II'\n",
            " 'Biostatistician II' 'Staff Accountant IV' 'Account Representative II'\n",
            " 'Programmer Analyst IV' 'Programmer Analyst I' 'Systems Administrator IV'\n",
            " 'Research Assistant III']\n",
            "['Health' 'Financial Services' 'Property' 'IT' 'Retail' 'Argiculture'\n",
            " 'Manufacturing' 'Telecommunications' 'Entertainment']\n",
            "['Mass Customer' 'High Net Worth' 'Affluent Customer']\n",
            "['N' 'Y']\n",
            "['Yes' 'No']\n",
            "[11. 16. 15.  7. 13.  8. 20.  9.  6.  1. 21. 12. 19. 14.  4. 22. 18.  5.\n",
            " 17.  2. 10.  3.]\n",
            "[ 67.  39.  66.  59.  54.  44.  47.  32.  26.  65.  37.  20.  19.  40.\n",
            "  57.  43.  42.  52.  58.  25. 176.  34.  41.  45.  28.  61.  64.  24.\n",
            "  53.  50.  55.  18.  60.  27.  35.  48.  31.  46.  36.  22.  23.  30.\n",
            "  38.  21.  63.  56.  33.  51.  49.  62.  29.  76.  89.  85.  77.  80.]\n"
          ],
          "name": "stdout"
        }
      ]
    },
    {
      "cell_type": "code",
      "metadata": {
        "id": "0dvRrMuRCaH4",
        "colab": {
          "base_uri": "https://localhost:8080/"
        },
        "outputId": "424cc421-bc98-4658-cb3f-c2df88afc26c"
      },
      "source": [
        "# Solve inconsistancy in gender\n",
        "data_cd['gender'] = data_cd['gender'].replace(['F', 'Femal', 'Female'], 'F')\n",
        "data_cd['gender'] = data_cd['gender'].replace(['M', 'Male'], 'M')\n",
        "data_cd['gender'].unique()"
      ],
      "execution_count": null,
      "outputs": [
        {
          "output_type": "execute_result",
          "data": {
            "text/plain": [
              "array(['F', 'M', 'U'], dtype=object)"
            ]
          },
          "metadata": {
            "tags": []
          },
          "execution_count": 25
        }
      ]
    },
    {
      "cell_type": "markdown",
      "metadata": {
        "id": "_PdRT20zE9Kh"
      },
      "source": [
        "# CustomerAddress"
      ]
    },
    {
      "cell_type": "code",
      "metadata": {
        "id": "gTglCSsXFAgv",
        "colab": {
          "base_uri": "https://localhost:8080/"
        },
        "outputId": "184a9292-459a-4d78-ea62-7173b938157a"
      },
      "source": [
        "data_ca = pd.read_excel(xls, 'CustomerAddress')\n",
        "data_ca.head()"
      ],
      "execution_count": null,
      "outputs": [
        {
          "output_type": "execute_result",
          "data": {
            "text/html": [
              "<div>\n",
              "<style scoped>\n",
              "    .dataframe tbody tr th:only-of-type {\n",
              "        vertical-align: middle;\n",
              "    }\n",
              "\n",
              "    .dataframe tbody tr th {\n",
              "        vertical-align: top;\n",
              "    }\n",
              "\n",
              "    .dataframe thead th {\n",
              "        text-align: right;\n",
              "    }\n",
              "</style>\n",
              "<table border=\"1\" class=\"dataframe\">\n",
              "  <thead>\n",
              "    <tr style=\"text-align: right;\">\n",
              "      <th></th>\n",
              "      <th>customer_id</th>\n",
              "      <th>address</th>\n",
              "      <th>postcode</th>\n",
              "      <th>state</th>\n",
              "      <th>country</th>\n",
              "      <th>property_valuation</th>\n",
              "    </tr>\n",
              "  </thead>\n",
              "  <tbody>\n",
              "    <tr>\n",
              "      <th>0</th>\n",
              "      <td>1</td>\n",
              "      <td>060 Morning Avenue</td>\n",
              "      <td>2016</td>\n",
              "      <td>New South Wales</td>\n",
              "      <td>Australia</td>\n",
              "      <td>10</td>\n",
              "    </tr>\n",
              "    <tr>\n",
              "      <th>1</th>\n",
              "      <td>2</td>\n",
              "      <td>6 Meadow Vale Court</td>\n",
              "      <td>2153</td>\n",
              "      <td>New South Wales</td>\n",
              "      <td>Australia</td>\n",
              "      <td>10</td>\n",
              "    </tr>\n",
              "    <tr>\n",
              "      <th>2</th>\n",
              "      <td>4</td>\n",
              "      <td>0 Holy Cross Court</td>\n",
              "      <td>4211</td>\n",
              "      <td>QLD</td>\n",
              "      <td>Australia</td>\n",
              "      <td>9</td>\n",
              "    </tr>\n",
              "    <tr>\n",
              "      <th>3</th>\n",
              "      <td>5</td>\n",
              "      <td>17979 Del Mar Point</td>\n",
              "      <td>2448</td>\n",
              "      <td>New South Wales</td>\n",
              "      <td>Australia</td>\n",
              "      <td>4</td>\n",
              "    </tr>\n",
              "    <tr>\n",
              "      <th>4</th>\n",
              "      <td>6</td>\n",
              "      <td>9 Oakridge Court</td>\n",
              "      <td>3216</td>\n",
              "      <td>VIC</td>\n",
              "      <td>Australia</td>\n",
              "      <td>9</td>\n",
              "    </tr>\n",
              "  </tbody>\n",
              "</table>\n",
              "</div>"
            ],
            "text/plain": [
              "   customer_id              address  ...    country property_valuation\n",
              "0            1   060 Morning Avenue  ...  Australia                 10\n",
              "1            2  6 Meadow Vale Court  ...  Australia                 10\n",
              "2            4   0 Holy Cross Court  ...  Australia                  9\n",
              "3            5  17979 Del Mar Point  ...  Australia                  4\n",
              "4            6     9 Oakridge Court  ...  Australia                  9\n",
              "\n",
              "[5 rows x 6 columns]"
            ]
          },
          "metadata": {
            "tags": []
          },
          "execution_count": 26
        }
      ]
    },
    {
      "cell_type": "code",
      "metadata": {
        "id": "cQsvFma3GwaP",
        "colab": {
          "base_uri": "https://localhost:8080/"
        },
        "outputId": "8e52f558-c761-441f-e623-7b3be8010581"
      },
      "source": [
        "data_ca.dtypes"
      ],
      "execution_count": null,
      "outputs": [
        {
          "output_type": "execute_result",
          "data": {
            "text/plain": [
              "customer_id            int64\n",
              "address               object\n",
              "postcode               int64\n",
              "state                 object\n",
              "country               object\n",
              "property_valuation     int64\n",
              "dtype: object"
            ]
          },
          "metadata": {
            "tags": []
          },
          "execution_count": 27
        }
      ]
    },
    {
      "cell_type": "code",
      "metadata": {
        "id": "jbqvOsmSFSM_",
        "colab": {
          "base_uri": "https://localhost:8080/"
        },
        "outputId": "8aac9c12-e1ac-4f1a-901f-3542034da7c6"
      },
      "source": [
        "# Check for null values in dataset\n",
        "data_ca.isnull().sum()"
      ],
      "execution_count": null,
      "outputs": [
        {
          "output_type": "execute_result",
          "data": {
            "text/plain": [
              "customer_id           0\n",
              "address               0\n",
              "postcode              0\n",
              "state                 0\n",
              "country               0\n",
              "property_valuation    0\n",
              "dtype: int64"
            ]
          },
          "metadata": {
            "tags": []
          },
          "execution_count": 28
        }
      ]
    },
    {
      "cell_type": "code",
      "metadata": {
        "id": "SrbrtoD5FqT8",
        "colab": {
          "base_uri": "https://localhost:8080/"
        },
        "outputId": "464b2d54-8cd6-47aa-a808-d9d49889fa24"
      },
      "source": [
        "# Solve inconsistancy in state\n",
        "data_ca['state'].unique()"
      ],
      "execution_count": null,
      "outputs": [
        {
          "output_type": "execute_result",
          "data": {
            "text/plain": [
              "array(['New South Wales', 'QLD', 'VIC', 'NSW', 'Victoria'], dtype=object)"
            ]
          },
          "metadata": {
            "tags": []
          },
          "execution_count": 29
        }
      ]
    },
    {
      "cell_type": "code",
      "metadata": {
        "id": "hqGnxBkoHZrv",
        "colab": {
          "base_uri": "https://localhost:8080/"
        },
        "outputId": "57a0ac84-a94a-4668-db90-1ff1c601017f"
      },
      "source": [
        "data_ca['state'] = data_ca['state'].replace('New South Wales', 'NSW')\n",
        "data_ca['state'] = data_ca['state'].replace('Victoria', 'VIC')\n",
        "data_ca['state'].unique()"
      ],
      "execution_count": null,
      "outputs": [
        {
          "output_type": "execute_result",
          "data": {
            "text/plain": [
              "array(['NSW', 'QLD', 'VIC'], dtype=object)"
            ]
          },
          "metadata": {
            "tags": []
          },
          "execution_count": 30
        }
      ]
    },
    {
      "cell_type": "code",
      "metadata": {
        "id": "jPTX9xCPH9Ku",
        "colab": {
          "base_uri": "https://localhost:8080/"
        },
        "outputId": "0302be24-0424-4950-c85c-ecc2b8c46a93"
      },
      "source": [
        "data_ca['country'].unique()"
      ],
      "execution_count": null,
      "outputs": [
        {
          "output_type": "execute_result",
          "data": {
            "text/plain": [
              "array(['Australia'], dtype=object)"
            ]
          },
          "metadata": {
            "tags": []
          },
          "execution_count": 31
        }
      ]
    },
    {
      "cell_type": "markdown",
      "metadata": {
        "id": "hY3Nj32SIJwS"
      },
      "source": [
        "# Transactions"
      ]
    },
    {
      "cell_type": "code",
      "metadata": {
        "id": "YkmBzArhIMYQ",
        "colab": {
          "base_uri": "https://localhost:8080/"
        },
        "outputId": "fd8130a6-19be-457a-ebbb-62e3cc0732b2"
      },
      "source": [
        "data_t = pd.read_excel(xls, 'Transactions')\n",
        "data_t.head()"
      ],
      "execution_count": null,
      "outputs": [
        {
          "output_type": "execute_result",
          "data": {
            "text/html": [
              "<div>\n",
              "<style scoped>\n",
              "    .dataframe tbody tr th:only-of-type {\n",
              "        vertical-align: middle;\n",
              "    }\n",
              "\n",
              "    .dataframe tbody tr th {\n",
              "        vertical-align: top;\n",
              "    }\n",
              "\n",
              "    .dataframe thead th {\n",
              "        text-align: right;\n",
              "    }\n",
              "</style>\n",
              "<table border=\"1\" class=\"dataframe\">\n",
              "  <thead>\n",
              "    <tr style=\"text-align: right;\">\n",
              "      <th></th>\n",
              "      <th>transaction_id</th>\n",
              "      <th>product_id</th>\n",
              "      <th>customer_id</th>\n",
              "      <th>transaction_date</th>\n",
              "      <th>online_order</th>\n",
              "      <th>order_status</th>\n",
              "      <th>brand</th>\n",
              "      <th>product_line</th>\n",
              "      <th>product_class</th>\n",
              "      <th>product_size</th>\n",
              "      <th>list_price</th>\n",
              "      <th>standard_cost</th>\n",
              "      <th>product_first_sold_date</th>\n",
              "    </tr>\n",
              "  </thead>\n",
              "  <tbody>\n",
              "    <tr>\n",
              "      <th>0</th>\n",
              "      <td>1</td>\n",
              "      <td>2</td>\n",
              "      <td>2950</td>\n",
              "      <td>2017-02-25</td>\n",
              "      <td>0.0</td>\n",
              "      <td>Approved</td>\n",
              "      <td>Solex</td>\n",
              "      <td>Standard</td>\n",
              "      <td>medium</td>\n",
              "      <td>medium</td>\n",
              "      <td>71.49</td>\n",
              "      <td>53.62</td>\n",
              "      <td>41245.0</td>\n",
              "    </tr>\n",
              "    <tr>\n",
              "      <th>1</th>\n",
              "      <td>2</td>\n",
              "      <td>3</td>\n",
              "      <td>3120</td>\n",
              "      <td>2017-05-21</td>\n",
              "      <td>1.0</td>\n",
              "      <td>Approved</td>\n",
              "      <td>Trek Bicycles</td>\n",
              "      <td>Standard</td>\n",
              "      <td>medium</td>\n",
              "      <td>large</td>\n",
              "      <td>2091.47</td>\n",
              "      <td>388.92</td>\n",
              "      <td>41701.0</td>\n",
              "    </tr>\n",
              "    <tr>\n",
              "      <th>2</th>\n",
              "      <td>3</td>\n",
              "      <td>37</td>\n",
              "      <td>402</td>\n",
              "      <td>2017-10-16</td>\n",
              "      <td>0.0</td>\n",
              "      <td>Approved</td>\n",
              "      <td>OHM Cycles</td>\n",
              "      <td>Standard</td>\n",
              "      <td>low</td>\n",
              "      <td>medium</td>\n",
              "      <td>1793.43</td>\n",
              "      <td>248.82</td>\n",
              "      <td>36361.0</td>\n",
              "    </tr>\n",
              "    <tr>\n",
              "      <th>3</th>\n",
              "      <td>4</td>\n",
              "      <td>88</td>\n",
              "      <td>3135</td>\n",
              "      <td>2017-08-31</td>\n",
              "      <td>0.0</td>\n",
              "      <td>Approved</td>\n",
              "      <td>Norco Bicycles</td>\n",
              "      <td>Standard</td>\n",
              "      <td>medium</td>\n",
              "      <td>medium</td>\n",
              "      <td>1198.46</td>\n",
              "      <td>381.10</td>\n",
              "      <td>36145.0</td>\n",
              "    </tr>\n",
              "    <tr>\n",
              "      <th>4</th>\n",
              "      <td>5</td>\n",
              "      <td>78</td>\n",
              "      <td>787</td>\n",
              "      <td>2017-10-01</td>\n",
              "      <td>1.0</td>\n",
              "      <td>Approved</td>\n",
              "      <td>Giant Bicycles</td>\n",
              "      <td>Standard</td>\n",
              "      <td>medium</td>\n",
              "      <td>large</td>\n",
              "      <td>1765.30</td>\n",
              "      <td>709.48</td>\n",
              "      <td>42226.0</td>\n",
              "    </tr>\n",
              "  </tbody>\n",
              "</table>\n",
              "</div>"
            ],
            "text/plain": [
              "   transaction_id  product_id  ...  standard_cost product_first_sold_date\n",
              "0               1           2  ...          53.62                 41245.0\n",
              "1               2           3  ...         388.92                 41701.0\n",
              "2               3          37  ...         248.82                 36361.0\n",
              "3               4          88  ...         381.10                 36145.0\n",
              "4               5          78  ...         709.48                 42226.0\n",
              "\n",
              "[5 rows x 13 columns]"
            ]
          },
          "metadata": {
            "tags": []
          },
          "execution_count": 32
        }
      ]
    },
    {
      "cell_type": "code",
      "metadata": {
        "id": "qDAdo825Ia0v",
        "colab": {
          "base_uri": "https://localhost:8080/"
        },
        "outputId": "ba1a581d-41e1-406b-cff8-31db4835af5b"
      },
      "source": [
        "data_t.dtypes"
      ],
      "execution_count": null,
      "outputs": [
        {
          "output_type": "execute_result",
          "data": {
            "text/plain": [
              "transaction_id                      int64\n",
              "product_id                          int64\n",
              "customer_id                         int64\n",
              "transaction_date           datetime64[ns]\n",
              "online_order                      float64\n",
              "order_status                       object\n",
              "brand                              object\n",
              "product_line                       object\n",
              "product_class                      object\n",
              "product_size                       object\n",
              "list_price                        float64\n",
              "standard_cost                     float64\n",
              "product_first_sold_date           float64\n",
              "dtype: object"
            ]
          },
          "metadata": {
            "tags": []
          },
          "execution_count": 33
        }
      ]
    },
    {
      "cell_type": "code",
      "metadata": {
        "id": "gDY-m_mEIgSI"
      },
      "source": [
        "#data_t.drop('product_first_sold_date', axis=1, inplace=True)\n",
        "#data_t.columns"
      ],
      "execution_count": null,
      "outputs": []
    },
    {
      "cell_type": "code",
      "metadata": {
        "id": "SD1VcMcmJx2y",
        "colab": {
          "base_uri": "https://localhost:8080/"
        },
        "outputId": "b543f927-ecd8-475e-9cf1-ee9f47428384"
      },
      "source": [
        "data_t.shape"
      ],
      "execution_count": null,
      "outputs": [
        {
          "output_type": "execute_result",
          "data": {
            "text/plain": [
              "(20000, 13)"
            ]
          },
          "metadata": {
            "tags": []
          },
          "execution_count": 35
        }
      ]
    },
    {
      "cell_type": "code",
      "metadata": {
        "id": "CnHm-FEyJ6xS",
        "colab": {
          "base_uri": "https://localhost:8080/"
        },
        "outputId": "9fa1ea09-83c0-4223-c7a7-1924c15f7bdc"
      },
      "source": [
        "data_t.isnull().sum()"
      ],
      "execution_count": null,
      "outputs": [
        {
          "output_type": "execute_result",
          "data": {
            "text/plain": [
              "transaction_id               0\n",
              "product_id                   0\n",
              "customer_id                  0\n",
              "transaction_date             0\n",
              "online_order               360\n",
              "order_status                 0\n",
              "brand                      197\n",
              "product_line               197\n",
              "product_class              197\n",
              "product_size               197\n",
              "list_price                   0\n",
              "standard_cost              197\n",
              "product_first_sold_date    197\n",
              "dtype: int64"
            ]
          },
          "metadata": {
            "tags": []
          },
          "execution_count": 36
        }
      ]
    },
    {
      "cell_type": "code",
      "metadata": {
        "id": "l0hmHn9RKMGV",
        "colab": {
          "base_uri": "https://localhost:8080/"
        },
        "outputId": "f74bd40d-1af3-4ac7-8233-0dc7c9c47f6d"
      },
      "source": [
        "# Drop rows with null values in brand, product_line, product_class, product_size and standard cost\n",
        "d = np.where(data_t.isnull().sum(axis=1)>3)\n",
        "data_t= data_t.drop(data_t.index[d])\n",
        "data_t.isnull().sum(), data_t.shape"
      ],
      "execution_count": null,
      "outputs": [
        {
          "output_type": "execute_result",
          "data": {
            "text/plain": [
              "(transaction_id               0\n",
              " product_id                   0\n",
              " customer_id                  0\n",
              " transaction_date             0\n",
              " online_order               358\n",
              " order_status                 0\n",
              " brand                        0\n",
              " product_line                 0\n",
              " product_class                0\n",
              " product_size                 0\n",
              " list_price                   0\n",
              " standard_cost                0\n",
              " product_first_sold_date      0\n",
              " dtype: int64, (19803, 13))"
            ]
          },
          "metadata": {
            "tags": []
          },
          "execution_count": 37
        }
      ]
    },
    {
      "cell_type": "code",
      "metadata": {
        "id": "NyYR8tyyVTBa",
        "colab": {
          "base_uri": "https://localhost:8080/"
        },
        "outputId": "92c55a01-f19c-4dce-f6de-ff1a34e75c02"
      },
      "source": [
        "# Convert Product_first_sold_date from excel time to datetime\n",
        "import datetime\n",
        "\n",
        "def convertdate(x):\n",
        " serial = x\n",
        " seconds = (serial - 25569) * 86400.0\n",
        " return datetime.datetime.utcfromtimestamp(seconds)\n",
        "\n",
        "data_t['product_first_sold_date'] = data_t['product_first_sold_date'].apply(lambda x:convertdate(x))\n",
        "\n",
        "data_t.head()"
      ],
      "execution_count": null,
      "outputs": [
        {
          "output_type": "execute_result",
          "data": {
            "text/html": [
              "<div>\n",
              "<style scoped>\n",
              "    .dataframe tbody tr th:only-of-type {\n",
              "        vertical-align: middle;\n",
              "    }\n",
              "\n",
              "    .dataframe tbody tr th {\n",
              "        vertical-align: top;\n",
              "    }\n",
              "\n",
              "    .dataframe thead th {\n",
              "        text-align: right;\n",
              "    }\n",
              "</style>\n",
              "<table border=\"1\" class=\"dataframe\">\n",
              "  <thead>\n",
              "    <tr style=\"text-align: right;\">\n",
              "      <th></th>\n",
              "      <th>transaction_id</th>\n",
              "      <th>product_id</th>\n",
              "      <th>customer_id</th>\n",
              "      <th>transaction_date</th>\n",
              "      <th>online_order</th>\n",
              "      <th>order_status</th>\n",
              "      <th>brand</th>\n",
              "      <th>product_line</th>\n",
              "      <th>product_class</th>\n",
              "      <th>product_size</th>\n",
              "      <th>list_price</th>\n",
              "      <th>standard_cost</th>\n",
              "      <th>product_first_sold_date</th>\n",
              "    </tr>\n",
              "  </thead>\n",
              "  <tbody>\n",
              "    <tr>\n",
              "      <th>0</th>\n",
              "      <td>1</td>\n",
              "      <td>2</td>\n",
              "      <td>2950</td>\n",
              "      <td>2017-02-25</td>\n",
              "      <td>0.0</td>\n",
              "      <td>Approved</td>\n",
              "      <td>Solex</td>\n",
              "      <td>Standard</td>\n",
              "      <td>medium</td>\n",
              "      <td>medium</td>\n",
              "      <td>71.49</td>\n",
              "      <td>53.62</td>\n",
              "      <td>2012-12-02</td>\n",
              "    </tr>\n",
              "    <tr>\n",
              "      <th>1</th>\n",
              "      <td>2</td>\n",
              "      <td>3</td>\n",
              "      <td>3120</td>\n",
              "      <td>2017-05-21</td>\n",
              "      <td>1.0</td>\n",
              "      <td>Approved</td>\n",
              "      <td>Trek Bicycles</td>\n",
              "      <td>Standard</td>\n",
              "      <td>medium</td>\n",
              "      <td>large</td>\n",
              "      <td>2091.47</td>\n",
              "      <td>388.92</td>\n",
              "      <td>2014-03-03</td>\n",
              "    </tr>\n",
              "    <tr>\n",
              "      <th>2</th>\n",
              "      <td>3</td>\n",
              "      <td>37</td>\n",
              "      <td>402</td>\n",
              "      <td>2017-10-16</td>\n",
              "      <td>0.0</td>\n",
              "      <td>Approved</td>\n",
              "      <td>OHM Cycles</td>\n",
              "      <td>Standard</td>\n",
              "      <td>low</td>\n",
              "      <td>medium</td>\n",
              "      <td>1793.43</td>\n",
              "      <td>248.82</td>\n",
              "      <td>1999-07-20</td>\n",
              "    </tr>\n",
              "    <tr>\n",
              "      <th>3</th>\n",
              "      <td>4</td>\n",
              "      <td>88</td>\n",
              "      <td>3135</td>\n",
              "      <td>2017-08-31</td>\n",
              "      <td>0.0</td>\n",
              "      <td>Approved</td>\n",
              "      <td>Norco Bicycles</td>\n",
              "      <td>Standard</td>\n",
              "      <td>medium</td>\n",
              "      <td>medium</td>\n",
              "      <td>1198.46</td>\n",
              "      <td>381.10</td>\n",
              "      <td>1998-12-16</td>\n",
              "    </tr>\n",
              "    <tr>\n",
              "      <th>4</th>\n",
              "      <td>5</td>\n",
              "      <td>78</td>\n",
              "      <td>787</td>\n",
              "      <td>2017-10-01</td>\n",
              "      <td>1.0</td>\n",
              "      <td>Approved</td>\n",
              "      <td>Giant Bicycles</td>\n",
              "      <td>Standard</td>\n",
              "      <td>medium</td>\n",
              "      <td>large</td>\n",
              "      <td>1765.30</td>\n",
              "      <td>709.48</td>\n",
              "      <td>2015-08-10</td>\n",
              "    </tr>\n",
              "  </tbody>\n",
              "</table>\n",
              "</div>"
            ],
            "text/plain": [
              "   transaction_id  product_id  ...  standard_cost product_first_sold_date\n",
              "0               1           2  ...          53.62              2012-12-02\n",
              "1               2           3  ...         388.92              2014-03-03\n",
              "2               3          37  ...         248.82              1999-07-20\n",
              "3               4          88  ...         381.10              1998-12-16\n",
              "4               5          78  ...         709.48              2015-08-10\n",
              "\n",
              "[5 rows x 13 columns]"
            ]
          },
          "metadata": {
            "tags": []
          },
          "execution_count": 38
        }
      ]
    },
    {
      "cell_type": "code",
      "metadata": {
        "id": "1y1s_KB4NioF",
        "colab": {
          "base_uri": "https://localhost:8080/"
        },
        "outputId": "3d340e24-0c47-4311-cba9-909890ef3a2e"
      },
      "source": [
        "# Drop rows with missing online_order\n",
        "data_t.dropna(subset=['online_order'], inplace=True)\n",
        "data_t.isnull().sum(), data_t.shape"
      ],
      "execution_count": null,
      "outputs": [
        {
          "output_type": "execute_result",
          "data": {
            "text/plain": [
              "(transaction_id             0\n",
              " product_id                 0\n",
              " customer_id                0\n",
              " transaction_date           0\n",
              " online_order               0\n",
              " order_status               0\n",
              " brand                      0\n",
              " product_line               0\n",
              " product_class              0\n",
              " product_size               0\n",
              " list_price                 0\n",
              " standard_cost              0\n",
              " product_first_sold_date    0\n",
              " dtype: int64, (19445, 13))"
            ]
          },
          "metadata": {
            "tags": []
          },
          "execution_count": 39
        }
      ]
    },
    {
      "cell_type": "code",
      "metadata": {
        "id": "GYYHnRosOPUt",
        "colab": {
          "base_uri": "https://localhost:8080/"
        },
        "outputId": "63f3bd76-d33f-404b-ae29-d7cfa9459fdd"
      },
      "source": [
        "# Create a new column Profit from list_price and standard cost\n",
        "data_t['profit'] = data_t['list_price'] - data_t['standard_cost']\n",
        "data_t.head(3)"
      ],
      "execution_count": null,
      "outputs": [
        {
          "output_type": "execute_result",
          "data": {
            "text/html": [
              "<div>\n",
              "<style scoped>\n",
              "    .dataframe tbody tr th:only-of-type {\n",
              "        vertical-align: middle;\n",
              "    }\n",
              "\n",
              "    .dataframe tbody tr th {\n",
              "        vertical-align: top;\n",
              "    }\n",
              "\n",
              "    .dataframe thead th {\n",
              "        text-align: right;\n",
              "    }\n",
              "</style>\n",
              "<table border=\"1\" class=\"dataframe\">\n",
              "  <thead>\n",
              "    <tr style=\"text-align: right;\">\n",
              "      <th></th>\n",
              "      <th>transaction_id</th>\n",
              "      <th>product_id</th>\n",
              "      <th>customer_id</th>\n",
              "      <th>transaction_date</th>\n",
              "      <th>online_order</th>\n",
              "      <th>order_status</th>\n",
              "      <th>brand</th>\n",
              "      <th>product_line</th>\n",
              "      <th>product_class</th>\n",
              "      <th>product_size</th>\n",
              "      <th>list_price</th>\n",
              "      <th>standard_cost</th>\n",
              "      <th>product_first_sold_date</th>\n",
              "      <th>profit</th>\n",
              "    </tr>\n",
              "  </thead>\n",
              "  <tbody>\n",
              "    <tr>\n",
              "      <th>0</th>\n",
              "      <td>1</td>\n",
              "      <td>2</td>\n",
              "      <td>2950</td>\n",
              "      <td>2017-02-25</td>\n",
              "      <td>0.0</td>\n",
              "      <td>Approved</td>\n",
              "      <td>Solex</td>\n",
              "      <td>Standard</td>\n",
              "      <td>medium</td>\n",
              "      <td>medium</td>\n",
              "      <td>71.49</td>\n",
              "      <td>53.62</td>\n",
              "      <td>2012-12-02</td>\n",
              "      <td>17.87</td>\n",
              "    </tr>\n",
              "    <tr>\n",
              "      <th>1</th>\n",
              "      <td>2</td>\n",
              "      <td>3</td>\n",
              "      <td>3120</td>\n",
              "      <td>2017-05-21</td>\n",
              "      <td>1.0</td>\n",
              "      <td>Approved</td>\n",
              "      <td>Trek Bicycles</td>\n",
              "      <td>Standard</td>\n",
              "      <td>medium</td>\n",
              "      <td>large</td>\n",
              "      <td>2091.47</td>\n",
              "      <td>388.92</td>\n",
              "      <td>2014-03-03</td>\n",
              "      <td>1702.55</td>\n",
              "    </tr>\n",
              "    <tr>\n",
              "      <th>2</th>\n",
              "      <td>3</td>\n",
              "      <td>37</td>\n",
              "      <td>402</td>\n",
              "      <td>2017-10-16</td>\n",
              "      <td>0.0</td>\n",
              "      <td>Approved</td>\n",
              "      <td>OHM Cycles</td>\n",
              "      <td>Standard</td>\n",
              "      <td>low</td>\n",
              "      <td>medium</td>\n",
              "      <td>1793.43</td>\n",
              "      <td>248.82</td>\n",
              "      <td>1999-07-20</td>\n",
              "      <td>1544.61</td>\n",
              "    </tr>\n",
              "  </tbody>\n",
              "</table>\n",
              "</div>"
            ],
            "text/plain": [
              "   transaction_id  product_id  ...  product_first_sold_date   profit\n",
              "0               1           2  ...               2012-12-02    17.87\n",
              "1               2           3  ...               2014-03-03  1702.55\n",
              "2               3          37  ...               1999-07-20  1544.61\n",
              "\n",
              "[3 rows x 14 columns]"
            ]
          },
          "metadata": {
            "tags": []
          },
          "execution_count": 40
        }
      ]
    },
    {
      "cell_type": "code",
      "metadata": {
        "id": "DOzwiaFzPQf8",
        "colab": {
          "base_uri": "https://localhost:8080/"
        },
        "outputId": "dfb50d9e-00f0-486c-be0f-79c77ece509d"
      },
      "source": [
        "data_t['online_order'] = data_t['online_order'].astype(int)\n",
        "data_t.head(3)"
      ],
      "execution_count": null,
      "outputs": [
        {
          "output_type": "execute_result",
          "data": {
            "text/html": [
              "<div>\n",
              "<style scoped>\n",
              "    .dataframe tbody tr th:only-of-type {\n",
              "        vertical-align: middle;\n",
              "    }\n",
              "\n",
              "    .dataframe tbody tr th {\n",
              "        vertical-align: top;\n",
              "    }\n",
              "\n",
              "    .dataframe thead th {\n",
              "        text-align: right;\n",
              "    }\n",
              "</style>\n",
              "<table border=\"1\" class=\"dataframe\">\n",
              "  <thead>\n",
              "    <tr style=\"text-align: right;\">\n",
              "      <th></th>\n",
              "      <th>transaction_id</th>\n",
              "      <th>product_id</th>\n",
              "      <th>customer_id</th>\n",
              "      <th>transaction_date</th>\n",
              "      <th>online_order</th>\n",
              "      <th>order_status</th>\n",
              "      <th>brand</th>\n",
              "      <th>product_line</th>\n",
              "      <th>product_class</th>\n",
              "      <th>product_size</th>\n",
              "      <th>list_price</th>\n",
              "      <th>standard_cost</th>\n",
              "      <th>product_first_sold_date</th>\n",
              "      <th>profit</th>\n",
              "    </tr>\n",
              "  </thead>\n",
              "  <tbody>\n",
              "    <tr>\n",
              "      <th>0</th>\n",
              "      <td>1</td>\n",
              "      <td>2</td>\n",
              "      <td>2950</td>\n",
              "      <td>2017-02-25</td>\n",
              "      <td>0</td>\n",
              "      <td>Approved</td>\n",
              "      <td>Solex</td>\n",
              "      <td>Standard</td>\n",
              "      <td>medium</td>\n",
              "      <td>medium</td>\n",
              "      <td>71.49</td>\n",
              "      <td>53.62</td>\n",
              "      <td>2012-12-02</td>\n",
              "      <td>17.87</td>\n",
              "    </tr>\n",
              "    <tr>\n",
              "      <th>1</th>\n",
              "      <td>2</td>\n",
              "      <td>3</td>\n",
              "      <td>3120</td>\n",
              "      <td>2017-05-21</td>\n",
              "      <td>1</td>\n",
              "      <td>Approved</td>\n",
              "      <td>Trek Bicycles</td>\n",
              "      <td>Standard</td>\n",
              "      <td>medium</td>\n",
              "      <td>large</td>\n",
              "      <td>2091.47</td>\n",
              "      <td>388.92</td>\n",
              "      <td>2014-03-03</td>\n",
              "      <td>1702.55</td>\n",
              "    </tr>\n",
              "    <tr>\n",
              "      <th>2</th>\n",
              "      <td>3</td>\n",
              "      <td>37</td>\n",
              "      <td>402</td>\n",
              "      <td>2017-10-16</td>\n",
              "      <td>0</td>\n",
              "      <td>Approved</td>\n",
              "      <td>OHM Cycles</td>\n",
              "      <td>Standard</td>\n",
              "      <td>low</td>\n",
              "      <td>medium</td>\n",
              "      <td>1793.43</td>\n",
              "      <td>248.82</td>\n",
              "      <td>1999-07-20</td>\n",
              "      <td>1544.61</td>\n",
              "    </tr>\n",
              "  </tbody>\n",
              "</table>\n",
              "</div>"
            ],
            "text/plain": [
              "   transaction_id  product_id  ...  product_first_sold_date   profit\n",
              "0               1           2  ...               2012-12-02    17.87\n",
              "1               2           3  ...               2014-03-03  1702.55\n",
              "2               3          37  ...               1999-07-20  1544.61\n",
              "\n",
              "[3 rows x 14 columns]"
            ]
          },
          "metadata": {
            "tags": []
          },
          "execution_count": 41
        }
      ]
    },
    {
      "cell_type": "code",
      "metadata": {
        "id": "RJlJVl4_Pt6A",
        "colab": {
          "base_uri": "https://localhost:8080/"
        },
        "outputId": "8505a329-4b64-40ec-f7fe-13dba71a452d"
      },
      "source": [
        "data_t['order_status'].unique(), data_t['product_line'].unique(), data_t['product_class'].unique(), data_t['product_size'].unique()"
      ],
      "execution_count": null,
      "outputs": [
        {
          "output_type": "execute_result",
          "data": {
            "text/plain": [
              "(array(['Approved', 'Cancelled'], dtype=object),\n",
              " array(['Standard', 'Road', 'Mountain', 'Touring'], dtype=object),\n",
              " array(['medium', 'low', 'high'], dtype=object),\n",
              " array(['medium', 'large', 'small'], dtype=object))"
            ]
          },
          "metadata": {
            "tags": []
          },
          "execution_count": 42
        }
      ]
    },
    {
      "cell_type": "code",
      "metadata": {
        "id": "ZmXUEbOPQI8l"
      },
      "source": [
        ""
      ],
      "execution_count": null,
      "outputs": []
    },
    {
      "cell_type": "markdown",
      "metadata": {
        "id": "WBoivbiDYQBl"
      },
      "source": [
        "# NewCustomerList"
      ]
    },
    {
      "cell_type": "code",
      "metadata": {
        "id": "at37EDsbYZ-C",
        "colab": {
          "base_uri": "https://localhost:8080/"
        },
        "outputId": "96991167-de1a-4ee5-f78c-395546a771f1"
      },
      "source": [
        "data_new = pd.read_excel(xls, 'NewCustomerList')\n",
        "data_new.head()"
      ],
      "execution_count": null,
      "outputs": [
        {
          "output_type": "execute_result",
          "data": {
            "text/html": [
              "<div>\n",
              "<style scoped>\n",
              "    .dataframe tbody tr th:only-of-type {\n",
              "        vertical-align: middle;\n",
              "    }\n",
              "\n",
              "    .dataframe tbody tr th {\n",
              "        vertical-align: top;\n",
              "    }\n",
              "\n",
              "    .dataframe thead th {\n",
              "        text-align: right;\n",
              "    }\n",
              "</style>\n",
              "<table border=\"1\" class=\"dataframe\">\n",
              "  <thead>\n",
              "    <tr style=\"text-align: right;\">\n",
              "      <th></th>\n",
              "      <th>first_name</th>\n",
              "      <th>last_name</th>\n",
              "      <th>gender</th>\n",
              "      <th>past_3_years_bike_related_purchases</th>\n",
              "      <th>DOB</th>\n",
              "      <th>job_title</th>\n",
              "      <th>job_industry_category</th>\n",
              "      <th>wealth_segment</th>\n",
              "      <th>deceased_indicator</th>\n",
              "      <th>owns_car</th>\n",
              "      <th>tenure</th>\n",
              "      <th>address</th>\n",
              "      <th>postcode</th>\n",
              "      <th>state</th>\n",
              "      <th>country</th>\n",
              "      <th>property_valuation</th>\n",
              "      <th>Unnamed: 16</th>\n",
              "      <th>Unnamed: 17</th>\n",
              "      <th>Unnamed: 18</th>\n",
              "      <th>Unnamed: 19</th>\n",
              "      <th>Unnamed: 20</th>\n",
              "      <th>Rank</th>\n",
              "      <th>Value</th>\n",
              "    </tr>\n",
              "  </thead>\n",
              "  <tbody>\n",
              "    <tr>\n",
              "      <th>0</th>\n",
              "      <td>Chickie</td>\n",
              "      <td>Brister</td>\n",
              "      <td>Male</td>\n",
              "      <td>86</td>\n",
              "      <td>1957-07-12</td>\n",
              "      <td>General Manager</td>\n",
              "      <td>Manufacturing</td>\n",
              "      <td>Mass Customer</td>\n",
              "      <td>N</td>\n",
              "      <td>Yes</td>\n",
              "      <td>14</td>\n",
              "      <td>45 Shopko Center</td>\n",
              "      <td>4500</td>\n",
              "      <td>QLD</td>\n",
              "      <td>Australia</td>\n",
              "      <td>6</td>\n",
              "      <td>1.05</td>\n",
              "      <td>1.3125</td>\n",
              "      <td>1.640625</td>\n",
              "      <td>1.394531</td>\n",
              "      <td>1</td>\n",
              "      <td>1</td>\n",
              "      <td>1.718750</td>\n",
              "    </tr>\n",
              "    <tr>\n",
              "      <th>1</th>\n",
              "      <td>Morly</td>\n",
              "      <td>Genery</td>\n",
              "      <td>Male</td>\n",
              "      <td>69</td>\n",
              "      <td>1970-03-22</td>\n",
              "      <td>Structural Engineer</td>\n",
              "      <td>Property</td>\n",
              "      <td>Mass Customer</td>\n",
              "      <td>N</td>\n",
              "      <td>No</td>\n",
              "      <td>16</td>\n",
              "      <td>14 Mccormick Park</td>\n",
              "      <td>2113</td>\n",
              "      <td>NSW</td>\n",
              "      <td>Australia</td>\n",
              "      <td>11</td>\n",
              "      <td>0.59</td>\n",
              "      <td>0.5900</td>\n",
              "      <td>0.737500</td>\n",
              "      <td>0.626875</td>\n",
              "      <td>1</td>\n",
              "      <td>1</td>\n",
              "      <td>1.718750</td>\n",
              "    </tr>\n",
              "    <tr>\n",
              "      <th>2</th>\n",
              "      <td>Ardelis</td>\n",
              "      <td>Forrester</td>\n",
              "      <td>Female</td>\n",
              "      <td>10</td>\n",
              "      <td>1974-08-28</td>\n",
              "      <td>Senior Cost Accountant</td>\n",
              "      <td>Financial Services</td>\n",
              "      <td>Affluent Customer</td>\n",
              "      <td>N</td>\n",
              "      <td>No</td>\n",
              "      <td>10</td>\n",
              "      <td>5 Colorado Crossing</td>\n",
              "      <td>3505</td>\n",
              "      <td>VIC</td>\n",
              "      <td>Australia</td>\n",
              "      <td>5</td>\n",
              "      <td>0.89</td>\n",
              "      <td>0.8900</td>\n",
              "      <td>0.890000</td>\n",
              "      <td>0.890000</td>\n",
              "      <td>1</td>\n",
              "      <td>1</td>\n",
              "      <td>1.718750</td>\n",
              "    </tr>\n",
              "    <tr>\n",
              "      <th>3</th>\n",
              "      <td>Lucine</td>\n",
              "      <td>Stutt</td>\n",
              "      <td>Female</td>\n",
              "      <td>64</td>\n",
              "      <td>1979-01-28</td>\n",
              "      <td>Account Representative III</td>\n",
              "      <td>Manufacturing</td>\n",
              "      <td>Affluent Customer</td>\n",
              "      <td>N</td>\n",
              "      <td>Yes</td>\n",
              "      <td>5</td>\n",
              "      <td>207 Annamark Plaza</td>\n",
              "      <td>4814</td>\n",
              "      <td>QLD</td>\n",
              "      <td>Australia</td>\n",
              "      <td>1</td>\n",
              "      <td>0.59</td>\n",
              "      <td>0.7375</td>\n",
              "      <td>0.737500</td>\n",
              "      <td>0.737500</td>\n",
              "      <td>4</td>\n",
              "      <td>4</td>\n",
              "      <td>1.703125</td>\n",
              "    </tr>\n",
              "    <tr>\n",
              "      <th>4</th>\n",
              "      <td>Melinda</td>\n",
              "      <td>Hadlee</td>\n",
              "      <td>Female</td>\n",
              "      <td>34</td>\n",
              "      <td>1965-09-21</td>\n",
              "      <td>Financial Analyst</td>\n",
              "      <td>Financial Services</td>\n",
              "      <td>Affluent Customer</td>\n",
              "      <td>N</td>\n",
              "      <td>No</td>\n",
              "      <td>19</td>\n",
              "      <td>115 Montana Place</td>\n",
              "      <td>2093</td>\n",
              "      <td>NSW</td>\n",
              "      <td>Australia</td>\n",
              "      <td>9</td>\n",
              "      <td>1.08</td>\n",
              "      <td>1.0800</td>\n",
              "      <td>1.350000</td>\n",
              "      <td>1.350000</td>\n",
              "      <td>4</td>\n",
              "      <td>4</td>\n",
              "      <td>1.703125</td>\n",
              "    </tr>\n",
              "  </tbody>\n",
              "</table>\n",
              "</div>"
            ],
            "text/plain": [
              "  first_name  last_name  gender  ...  Unnamed: 20 Rank     Value\n",
              "0    Chickie    Brister    Male  ...            1    1  1.718750\n",
              "1      Morly     Genery    Male  ...            1    1  1.718750\n",
              "2    Ardelis  Forrester  Female  ...            1    1  1.718750\n",
              "3     Lucine      Stutt  Female  ...            4    4  1.703125\n",
              "4    Melinda     Hadlee  Female  ...            4    4  1.703125\n",
              "\n",
              "[5 rows x 23 columns]"
            ]
          },
          "metadata": {
            "tags": []
          },
          "execution_count": 43
        }
      ]
    },
    {
      "cell_type": "code",
      "metadata": {
        "id": "ezOnbuy9Yr0j",
        "colab": {
          "base_uri": "https://localhost:8080/"
        },
        "outputId": "5bf59641-3b22-4074-e1e9-4acce0be9473"
      },
      "source": [
        "data_new.shape, data_new.dtypes"
      ],
      "execution_count": null,
      "outputs": [
        {
          "output_type": "execute_result",
          "data": {
            "text/plain": [
              "((1000, 23), first_name                                     object\n",
              " last_name                                      object\n",
              " gender                                         object\n",
              " past_3_years_bike_related_purchases             int64\n",
              " DOB                                    datetime64[ns]\n",
              " job_title                                      object\n",
              " job_industry_category                          object\n",
              " wealth_segment                                 object\n",
              " deceased_indicator                             object\n",
              " owns_car                                       object\n",
              " tenure                                          int64\n",
              " address                                        object\n",
              " postcode                                        int64\n",
              " state                                          object\n",
              " country                                        object\n",
              " property_valuation                              int64\n",
              " Unnamed: 16                                   float64\n",
              " Unnamed: 17                                   float64\n",
              " Unnamed: 18                                   float64\n",
              " Unnamed: 19                                   float64\n",
              " Unnamed: 20                                     int64\n",
              " Rank                                            int64\n",
              " Value                                         float64\n",
              " dtype: object)"
            ]
          },
          "metadata": {
            "tags": []
          },
          "execution_count": 44
        }
      ]
    },
    {
      "cell_type": "code",
      "metadata": {
        "id": "vdPGn1yJaL2Q",
        "colab": {
          "base_uri": "https://localhost:8080/"
        },
        "outputId": "42f24247-3380-4c68-b898-4d46492afb4b"
      },
      "source": [
        "# Drop Unnamed:16 to 20\n",
        "data_new.drop(['Unnamed: 16', 'Unnamed: 17', 'Unnamed: 18', 'Unnamed: 19', 'Unnamed: 20'], axis=1, inplace=True)\n",
        "data_new.shape, data_new.columns"
      ],
      "execution_count": null,
      "outputs": [
        {
          "output_type": "execute_result",
          "data": {
            "text/plain": [
              "((1000, 18), Index(['first_name', 'last_name', 'gender',\n",
              "        'past_3_years_bike_related_purchases', 'DOB', 'job_title',\n",
              "        'job_industry_category', 'wealth_segment', 'deceased_indicator',\n",
              "        'owns_car', 'tenure', 'address', 'postcode', 'state', 'country',\n",
              "        'property_valuation', 'Rank', 'Value'],\n",
              "       dtype='object'))"
            ]
          },
          "metadata": {
            "tags": []
          },
          "execution_count": 45
        }
      ]
    },
    {
      "cell_type": "code",
      "metadata": {
        "id": "jffr6qGHa4CN",
        "colab": {
          "base_uri": "https://localhost:8080/"
        },
        "outputId": "467c72e5-f446-4780-db65-5d6c145fa9f9"
      },
      "source": [
        "# Derive Age from DOB and drop DOB\n",
        "def from_dob_to_age(born):\n",
        "    today = datetime.date.today()\n",
        "    return today.year - born.year - ((today.month, today.day) < (born.month, born.day))\n",
        "\n",
        "data_new['Age'] = data_new['DOB'].apply(lambda x: from_dob_to_age(x))\n",
        "data_new.drop('DOB', axis=1, inplace=True)\n",
        "data_new.head(4)"
      ],
      "execution_count": null,
      "outputs": [
        {
          "output_type": "execute_result",
          "data": {
            "text/html": [
              "<div>\n",
              "<style scoped>\n",
              "    .dataframe tbody tr th:only-of-type {\n",
              "        vertical-align: middle;\n",
              "    }\n",
              "\n",
              "    .dataframe tbody tr th {\n",
              "        vertical-align: top;\n",
              "    }\n",
              "\n",
              "    .dataframe thead th {\n",
              "        text-align: right;\n",
              "    }\n",
              "</style>\n",
              "<table border=\"1\" class=\"dataframe\">\n",
              "  <thead>\n",
              "    <tr style=\"text-align: right;\">\n",
              "      <th></th>\n",
              "      <th>first_name</th>\n",
              "      <th>last_name</th>\n",
              "      <th>gender</th>\n",
              "      <th>past_3_years_bike_related_purchases</th>\n",
              "      <th>job_title</th>\n",
              "      <th>job_industry_category</th>\n",
              "      <th>wealth_segment</th>\n",
              "      <th>deceased_indicator</th>\n",
              "      <th>owns_car</th>\n",
              "      <th>tenure</th>\n",
              "      <th>address</th>\n",
              "      <th>postcode</th>\n",
              "      <th>state</th>\n",
              "      <th>country</th>\n",
              "      <th>property_valuation</th>\n",
              "      <th>Rank</th>\n",
              "      <th>Value</th>\n",
              "      <th>Age</th>\n",
              "    </tr>\n",
              "  </thead>\n",
              "  <tbody>\n",
              "    <tr>\n",
              "      <th>0</th>\n",
              "      <td>Chickie</td>\n",
              "      <td>Brister</td>\n",
              "      <td>Male</td>\n",
              "      <td>86</td>\n",
              "      <td>General Manager</td>\n",
              "      <td>Manufacturing</td>\n",
              "      <td>Mass Customer</td>\n",
              "      <td>N</td>\n",
              "      <td>Yes</td>\n",
              "      <td>14</td>\n",
              "      <td>45 Shopko Center</td>\n",
              "      <td>4500</td>\n",
              "      <td>QLD</td>\n",
              "      <td>Australia</td>\n",
              "      <td>6</td>\n",
              "      <td>1</td>\n",
              "      <td>1.718750</td>\n",
              "      <td>63.0</td>\n",
              "    </tr>\n",
              "    <tr>\n",
              "      <th>1</th>\n",
              "      <td>Morly</td>\n",
              "      <td>Genery</td>\n",
              "      <td>Male</td>\n",
              "      <td>69</td>\n",
              "      <td>Structural Engineer</td>\n",
              "      <td>Property</td>\n",
              "      <td>Mass Customer</td>\n",
              "      <td>N</td>\n",
              "      <td>No</td>\n",
              "      <td>16</td>\n",
              "      <td>14 Mccormick Park</td>\n",
              "      <td>2113</td>\n",
              "      <td>NSW</td>\n",
              "      <td>Australia</td>\n",
              "      <td>11</td>\n",
              "      <td>1</td>\n",
              "      <td>1.718750</td>\n",
              "      <td>50.0</td>\n",
              "    </tr>\n",
              "    <tr>\n",
              "      <th>2</th>\n",
              "      <td>Ardelis</td>\n",
              "      <td>Forrester</td>\n",
              "      <td>Female</td>\n",
              "      <td>10</td>\n",
              "      <td>Senior Cost Accountant</td>\n",
              "      <td>Financial Services</td>\n",
              "      <td>Affluent Customer</td>\n",
              "      <td>N</td>\n",
              "      <td>No</td>\n",
              "      <td>10</td>\n",
              "      <td>5 Colorado Crossing</td>\n",
              "      <td>3505</td>\n",
              "      <td>VIC</td>\n",
              "      <td>Australia</td>\n",
              "      <td>5</td>\n",
              "      <td>1</td>\n",
              "      <td>1.718750</td>\n",
              "      <td>46.0</td>\n",
              "    </tr>\n",
              "    <tr>\n",
              "      <th>3</th>\n",
              "      <td>Lucine</td>\n",
              "      <td>Stutt</td>\n",
              "      <td>Female</td>\n",
              "      <td>64</td>\n",
              "      <td>Account Representative III</td>\n",
              "      <td>Manufacturing</td>\n",
              "      <td>Affluent Customer</td>\n",
              "      <td>N</td>\n",
              "      <td>Yes</td>\n",
              "      <td>5</td>\n",
              "      <td>207 Annamark Plaza</td>\n",
              "      <td>4814</td>\n",
              "      <td>QLD</td>\n",
              "      <td>Australia</td>\n",
              "      <td>1</td>\n",
              "      <td>4</td>\n",
              "      <td>1.703125</td>\n",
              "      <td>41.0</td>\n",
              "    </tr>\n",
              "  </tbody>\n",
              "</table>\n",
              "</div>"
            ],
            "text/plain": [
              "  first_name  last_name  gender  ...  Rank     Value   Age\n",
              "0    Chickie    Brister    Male  ...     1  1.718750  63.0\n",
              "1      Morly     Genery    Male  ...     1  1.718750  50.0\n",
              "2    Ardelis  Forrester  Female  ...     1  1.718750  46.0\n",
              "3     Lucine      Stutt  Female  ...     4  1.703125  41.0\n",
              "\n",
              "[4 rows x 18 columns]"
            ]
          },
          "metadata": {
            "tags": []
          },
          "execution_count": 46
        }
      ]
    },
    {
      "cell_type": "code",
      "metadata": {
        "id": "n_2w3gyDbgXx",
        "colab": {
          "base_uri": "https://localhost:8080/"
        },
        "outputId": "b5f78266-b4b8-4205-8827-d108d9ca0ca0"
      },
      "source": [
        "# Check forr missing values\n",
        "data_new.isnull().sum()"
      ],
      "execution_count": null,
      "outputs": [
        {
          "output_type": "execute_result",
          "data": {
            "text/plain": [
              "first_name                               0\n",
              "last_name                               29\n",
              "gender                                   0\n",
              "past_3_years_bike_related_purchases      0\n",
              "job_title                              106\n",
              "job_industry_category                  165\n",
              "wealth_segment                           0\n",
              "deceased_indicator                       0\n",
              "owns_car                                 0\n",
              "tenure                                   0\n",
              "address                                  0\n",
              "postcode                                 0\n",
              "state                                    0\n",
              "country                                  0\n",
              "property_valuation                       0\n",
              "Rank                                     0\n",
              "Value                                    0\n",
              "Age                                     17\n",
              "dtype: int64"
            ]
          },
          "metadata": {
            "tags": []
          },
          "execution_count": 47
        }
      ]
    },
    {
      "cell_type": "code",
      "metadata": {
        "id": "EAYTN-IDb6-7",
        "colab": {
          "base_uri": "https://localhost:8080/"
        },
        "outputId": "a711b06b-5831-4c15-8f2f-56c3dc76b11b"
      },
      "source": [
        "# Replace missing last_name with ' '\n",
        "data_new['last_name'].fillna(' ', inplace=True)\n",
        "data_new.isnull().sum()"
      ],
      "execution_count": null,
      "outputs": [
        {
          "output_type": "execute_result",
          "data": {
            "text/plain": [
              "first_name                               0\n",
              "last_name                                0\n",
              "gender                                   0\n",
              "past_3_years_bike_related_purchases      0\n",
              "job_title                              106\n",
              "job_industry_category                  165\n",
              "wealth_segment                           0\n",
              "deceased_indicator                       0\n",
              "owns_car                                 0\n",
              "tenure                                   0\n",
              "address                                  0\n",
              "postcode                                 0\n",
              "state                                    0\n",
              "country                                  0\n",
              "property_valuation                       0\n",
              "Rank                                     0\n",
              "Value                                    0\n",
              "Age                                     17\n",
              "dtype: int64"
            ]
          },
          "metadata": {
            "tags": []
          },
          "execution_count": 48
        }
      ]
    },
    {
      "cell_type": "code",
      "metadata": {
        "id": "4zeKuft6chvs",
        "colab": {
          "base_uri": "https://localhost:8080/"
        },
        "outputId": "5324c64d-8029-4e50-a3ac-fa12976ae5b9"
      },
      "source": [
        "# Drop rows with missing job_industry_category\n",
        "data_new.dropna(subset=['job_industry_category'], inplace=True)\n",
        "data_new.isnull().sum(), data_new.shape"
      ],
      "execution_count": null,
      "outputs": [
        {
          "output_type": "execute_result",
          "data": {
            "text/plain": [
              "(first_name                              0\n",
              " last_name                               0\n",
              " gender                                  0\n",
              " past_3_years_bike_related_purchases     0\n",
              " job_title                              84\n",
              " job_industry_category                   0\n",
              " wealth_segment                          0\n",
              " deceased_indicator                      0\n",
              " owns_car                                0\n",
              " tenure                                  0\n",
              " address                                 0\n",
              " postcode                                0\n",
              " state                                   0\n",
              " country                                 0\n",
              " property_valuation                      0\n",
              " Rank                                    0\n",
              " Value                                   0\n",
              " Age                                    17\n",
              " dtype: int64, (835, 18))"
            ]
          },
          "metadata": {
            "tags": []
          },
          "execution_count": 49
        }
      ]
    },
    {
      "cell_type": "code",
      "metadata": {
        "id": "obC52XbOdjg3",
        "colab": {
          "base_uri": "https://localhost:8080/"
        },
        "outputId": "f9088165-e3af-4e80-ddb8-ce20af68a468"
      },
      "source": [
        "data_new['job_industry_category'].unique()"
      ],
      "execution_count": null,
      "outputs": [
        {
          "output_type": "execute_result",
          "data": {
            "text/plain": [
              "array(['Manufacturing', 'Property', 'Financial Services', 'Entertainment',\n",
              "       'Retail', 'IT', 'Telecommunications', 'Health', 'Argiculture'],\n",
              "      dtype=object)"
            ]
          },
          "metadata": {
            "tags": []
          },
          "execution_count": 50
        }
      ]
    },
    {
      "cell_type": "code",
      "metadata": {
        "id": "L9dj-Dnpdw95",
        "colab": {
          "base_uri": "https://localhost:8080/"
        },
        "outputId": "77319301-337d-413d-ec9a-4545e7db6859"
      },
      "source": [
        "# Make a list containing the mode of job_title for each type of job_industry_category\n",
        "cat_list_new = data_new.groupby('job_industry_category').apply(lambda x: x['job_title'].value_counts().idxmax())\n",
        "cat_list_new"
      ],
      "execution_count": null,
      "outputs": [
        {
          "output_type": "execute_result",
          "data": {
            "text/plain": [
              "job_industry_category\n",
              "Argiculture           Analog Circuit Design manager\n",
              "Entertainment               Assistant Media Planner\n",
              "Financial Services                  Cost Accountant\n",
              "Health                                Social Worker\n",
              "IT                                  Legal Assistant\n",
              "Manufacturing                     Chemical Engineer\n",
              "Property              Analog Circuit Design manager\n",
              "Retail                         Sales Representative\n",
              "Telecommunications          Human Resources Manager\n",
              "dtype: object"
            ]
          },
          "metadata": {
            "tags": []
          },
          "execution_count": 51
        }
      ]
    },
    {
      "cell_type": "code",
      "metadata": {
        "id": "rdqYyNYAeAp3",
        "colab": {
          "base_uri": "https://localhost:8080/"
        },
        "outputId": "5b8b2b8f-946c-4c44-8181-a5ee5cd7127c"
      },
      "source": [
        "# Iterate through each row of dataframe and replace null job_title with values from cat_list\n",
        "for ind, row in data_new.iterrows():\n",
        "  if pd.isnull(data_new.at[ind, 'job_title']):\n",
        "    cat =data_new.at[ind , 'job_industry_category']\n",
        "    data_new.at[ind, 'job_title'] = cat_list_new[cat]\n",
        "\n",
        "data_new.isnull().sum()  "
      ],
      "execution_count": null,
      "outputs": [
        {
          "output_type": "execute_result",
          "data": {
            "text/plain": [
              "first_name                              0\n",
              "last_name                               0\n",
              "gender                                  0\n",
              "past_3_years_bike_related_purchases     0\n",
              "job_title                               0\n",
              "job_industry_category                   0\n",
              "wealth_segment                          0\n",
              "deceased_indicator                      0\n",
              "owns_car                                0\n",
              "tenure                                  0\n",
              "address                                 0\n",
              "postcode                                0\n",
              "state                                   0\n",
              "country                                 0\n",
              "property_valuation                      0\n",
              "Rank                                    0\n",
              "Value                                   0\n",
              "Age                                    17\n",
              "dtype: int64"
            ]
          },
          "metadata": {
            "tags": []
          },
          "execution_count": 52
        }
      ]
    },
    {
      "cell_type": "markdown",
      "metadata": {
        "id": "ZVyT4BTRTdRG"
      },
      "source": [
        "# Dataframe to excel sheet"
      ]
    },
    {
      "cell_type": "code",
      "metadata": {
        "id": "NhI4ewM7Th4Y"
      },
      "source": [
        "writer = pd.ExcelWriter('kpmg_clean.xlsx')\n",
        "\n",
        "# Write each dataframe to a different worksheet.\n",
        "data_cd.to_excel(writer, sheet_name='CustomerDemographic')\n",
        "data_ca.to_excel(writer, sheet_name='CustomerAddress')\n",
        "data_t.to_excel(writer, sheet_name='Transactions')\n",
        "\n",
        "# Close the Pandas Excel writer and output the Excel file.\n",
        "writer.save()"
      ],
      "execution_count": null,
      "outputs": []
    },
    {
      "cell_type": "code",
      "metadata": {
        "id": "uMlv3HskWwi7"
      },
      "source": [
        ""
      ],
      "execution_count": null,
      "outputs": []
    }
  ]
}